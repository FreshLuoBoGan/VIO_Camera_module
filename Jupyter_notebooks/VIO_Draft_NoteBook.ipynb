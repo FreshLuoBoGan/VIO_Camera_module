{
 "cells": [
  {
   "cell_type": "code",
   "execution_count": null,
   "metadata": {},
   "outputs": [],
   "source": [
    "import serial\n",
    "import time\n",
    "import struct"
   ]
  },
  {
   "cell_type": "code",
   "execution_count": null,
   "metadata": {},
   "outputs": [],
   "source": [
    "port = serial.Serial('COM26',115200,timeout=1)"
   ]
  },
  {
   "cell_type": "code",
   "execution_count": null,
   "metadata": {},
   "outputs": [],
   "source": [
    "#Functions for setting the camera parameters\n",
    "def camera_set_analog_gain(port_object,val):\n",
    "    port_object.write(''.join(['G2 ',str(val),'\\r']).encode('utf-8'))\n",
    "def camera_set_digital_gain(port_object,val):\n",
    "    port_object.write(''.join(['G3 ',str(val),'\\r']).encode('utf-8'))\n",
    "def camera_set_exposure(port_object,val):\n",
    "    port_object.write(''.join(['G1 ',str(val),'\\r']).encode('utf-8'))"
   ]
  },
  {
   "cell_type": "code",
   "execution_count": null,
   "metadata": {},
   "outputs": [],
   "source": [
    "camera_set_analog_gain(port,30)\n",
    "camera_set_digital_gain(port,12)\n",
    "camera_set_exposure(port,120)"
   ]
  },
  {
   "cell_type": "code",
   "execution_count": null,
   "metadata": {},
   "outputs": [],
   "source": [
    "port.flush()\n",
    "while True:\n",
    "    t=time.time();\n",
    "    data=port.read_until( terminator=''.join(['abc\\n']).encode('utf-8'))\n",
    "    if(len(data)==44):\n",
    "        ax,ay,az,wx,wy,wz,mx,my,mz,camera_ts,imu_ts,toggling_bits=struct.unpack('3h3h3h2qi',data)\n",
    "        print(toggling_bits)\n",
    "        #print(1/(t-time.time()+0.00001))\n",
    "        #print(len(data))"
   ]
  },
  {
   "cell_type": "code",
   "execution_count": null,
   "metadata": {},
   "outputs": [],
   "source": [
    "port.close()"
   ]
  },
  {
   "cell_type": "code",
   "execution_count": null,
   "metadata": {},
   "outputs": [],
   "source": []
  }
 ],
 "metadata": {
  "kernelspec": {
   "display_name": "Python 3",
   "language": "python",
   "name": "python3"
  },
  "language_info": {
   "codemirror_mode": {
    "name": "ipython",
    "version": 3
   },
   "file_extension": ".py",
   "mimetype": "text/x-python",
   "name": "python",
   "nbconvert_exporter": "python",
   "pygments_lexer": "ipython3",
   "version": "3.7.1"
  }
 },
 "nbformat": 4,
 "nbformat_minor": 2
}
